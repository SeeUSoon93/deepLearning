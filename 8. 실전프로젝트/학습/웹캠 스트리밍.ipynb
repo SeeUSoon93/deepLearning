{
 "cells": [
  {
   "cell_type": "markdown",
   "id": "75f38f14",
   "metadata": {},
   "source": [
    "### opencv 웹캠 스트리밍 예제코드"
   ]
  },
  {
   "cell_type": "code",
   "execution_count": 2,
   "id": "0d110587",
   "metadata": {},
   "outputs": [
    {
     "ename": "KeyboardInterrupt",
     "evalue": "",
     "output_type": "error",
     "traceback": [
      "\u001b[1;31m---------------------------------------------------------------------------\u001b[0m",
      "\u001b[1;31mKeyboardInterrupt\u001b[0m                         Traceback (most recent call last)",
      "Cell \u001b[1;32mIn[2], line 10\u001b[0m\n\u001b[0;32m      7\u001b[0m     \u001b[38;5;28;01mraise\u001b[39;00m \u001b[38;5;167;01mIOError\u001b[39;00m(\u001b[38;5;124m\"\u001b[39m\u001b[38;5;124mCannot open webcam\u001b[39m\u001b[38;5;124m\"\u001b[39m)\n\u001b[0;32m      9\u001b[0m \u001b[38;5;28;01mwhile\u001b[39;00m \u001b[38;5;28;01mTrue\u001b[39;00m:\n\u001b[1;32m---> 10\u001b[0m     ret, frame \u001b[38;5;241m=\u001b[39m cap\u001b[38;5;241m.\u001b[39mread()\n\u001b[0;32m     11\u001b[0m     frame \u001b[38;5;241m=\u001b[39m cv2\u001b[38;5;241m.\u001b[39mresize(frame, \u001b[38;5;28;01mNone\u001b[39;00m, fx\u001b[38;5;241m=\u001b[39m\u001b[38;5;241m0.5\u001b[39m, fy\u001b[38;5;241m=\u001b[39m\u001b[38;5;241m0.5\u001b[39m, interpolation\u001b[38;5;241m=\u001b[39mcv2\u001b[38;5;241m.\u001b[39mINTER_AREA)\n\u001b[0;32m     12\u001b[0m     cv2\u001b[38;5;241m.\u001b[39mimshow(\u001b[38;5;124m'\u001b[39m\u001b[38;5;124mInput\u001b[39m\u001b[38;5;124m'\u001b[39m, frame)\n",
      "\u001b[1;31mKeyboardInterrupt\u001b[0m: "
     ]
    }
   ],
   "source": [
    "import cv2\n",
    "# 기본 카메라를 사용하여 비디오 캡처 객체를 생성\n",
    "cap = cv2.VideoCapture(0)\n",
    "if not cap.isOpened():\n",
    "    raise IOError(\"Cannot open webcam\")  # 열리지 않았으면 오류를 발생\n",
    "\n",
    "# 무한 루프를 사용하여 카메라에서 프레임을 연속적으로 읽기\n",
    "while True:\n",
    "    ret, frame = cap.read()  # 카메라의 현재 프레임을 읽기\n",
    "    # 읽은 프레임의 크기를 절반으로(fx와 fy는 각각 가로 및 세로의 축소 비율입니다.)\n",
    "    # frame: 현재 처리 중인 이미지를 나타내는 배열. cap.read() 함수에 의해 반환된 이미지 데이터\n",
    "    # cv2.resize: 이 함수는 입력된 이미지의 크기를 변경. 첫 번째 매개변수는 크기를 변경할 원본 이미지이고, 두 번째 매개변수는 변경된 이미지의 크기를 지정\n",
    "    # 두 번째 매개변수에 None을 넣으면, 출력 이미지의 크기를 직접 지정하는 대신 비율 인수(fx, fy)를 사용하여 크기를 조정\n",
    "    # fx: 가로 축의 크기 비율, fy=0.5: 세로 축의 크기 비율\n",
    "    # interpolation=cv2.INTER_AREA: 크기 조정시 사용할 보간(interpolation) 방법을 지정.\n",
    "    # cv2.INTER_AREA는 크기를 줄일 때 사용하는 방법으로, 지역 픽셀의 평균을 사용하여 결과 이미지의 픽셀 값을 계산.\n",
    "    # 일반적으로 크기를 줄일 때 선호되는 방법이며, 이미지의 축소에 있어서 품질 손실을 최소화\n",
    "    frame = cv2.resize(frame, None, fx=0.5, fy=0.5, interpolation=cv2.INTER_AREA)\n",
    "    cv2.imshow('Input', frame)\n",
    "    \n",
    "    c = cv2.waitKey(1)  # 1밀리초 동안 키보드 입력 대기. 키 입력이 있으면 해당 키 값을 반환\n",
    "    if c == 27:  # ESC 키의 ASCII 값이 27이므로 ESC를 누르면 종료\n",
    "        break\n",
    "\n",
    "# 루프를 벗어나면 캡처 객체를 해제\n",
    "cap.release()\n",
    "cv2.destroyAllWindows()"
   ]
  },
  {
   "cell_type": "code",
   "execution_count": null,
   "id": "5d68bdaa",
   "metadata": {},
   "outputs": [],
   "source": []
  }
 ],
 "metadata": {
  "kernelspec": {
   "display_name": "Python 3 (ipykernel)",
   "language": "python",
   "name": "python3"
  },
  "language_info": {
   "codemirror_mode": {
    "name": "ipython",
    "version": 3
   },
   "file_extension": ".py",
   "mimetype": "text/x-python",
   "name": "python",
   "nbconvert_exporter": "python",
   "pygments_lexer": "ipython3",
   "version": "3.11.3"
  }
 },
 "nbformat": 4,
 "nbformat_minor": 5
}
