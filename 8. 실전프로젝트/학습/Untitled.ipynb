{
 "cells": [
  {
   "cell_type": "code",
   "execution_count": 1,
   "id": "79c8249e",
   "metadata": {},
   "outputs": [
    {
     "ename": "IndentationError",
     "evalue": "expected an indented block after 'while' statement on line 24 (2137091012.py, line 25)",
     "output_type": "error",
     "traceback": [
      "\u001b[1;36m  Cell \u001b[1;32mIn[1], line 25\u001b[1;36m\u001b[0m\n\u001b[1;33m    for idx, action in enumerate(actions):\u001b[0m\n\u001b[1;37m    ^\u001b[0m\n\u001b[1;31mIndentationError\u001b[0m\u001b[1;31m:\u001b[0m expected an indented block after 'while' statement on line 24\n"
     ]
    }
   ],
   "source": [
    "import cv2\n",
    "import mediapipe as mp\n",
    "import numpy as np\n",
    "import time, os\n",
    "actions = ['greetings', 'hello', 'meet', 'part', 'glad',\n",
    "'worry', 'introduction', 'name', 'age', 'you',\n",
    "'me','live','know', 'dont know', 'right', 'no', 'what',\n",
    "'thanks', 'fine', 'want']\n",
    "seq_length = 30\n",
    "secs_for_action = 60 #액션을 녹화하는 시간\n",
    "# MediaPipe hands model\n",
    "mp_hands = mp.solutions.hands\n",
    "mp_drawing = mp.solutions.drawing_utils\n",
    "hands = mp_hands.Hands(\n",
    "max_num_hands=2,\n",
    "min_detection_confidence=0.5,\n",
    "min_tracking_confidence=0.5)\n",
    "# 웹캠 초기화\n",
    "cap = cv2.VideoCapture(0)\n",
    "created_time = int(time.time())\n",
    "# 데이터셋 저장 위치 지정\n",
    "os.makedirs('dataset', exist_ok=True)\n",
    "# 웹캠 실행 후 동작마다 녹화\n",
    "while cap.isOpened():\n",
    "for idx, action in enumerate(actions):\n",
    "data = []\n",
    "ret, img = cap.read()\n",
    "img = cv2.flip(img, 1)"
   ]
  },
  {
   "cell_type": "code",
   "execution_count": null,
   "id": "d45856f0",
   "metadata": {},
   "outputs": [],
   "source": []
  }
 ],
 "metadata": {
  "kernelspec": {
   "display_name": "Python 3 (ipykernel)",
   "language": "python",
   "name": "python3"
  },
  "language_info": {
   "codemirror_mode": {
    "name": "ipython",
    "version": 3
   },
   "file_extension": ".py",
   "mimetype": "text/x-python",
   "name": "python",
   "nbconvert_exporter": "python",
   "pygments_lexer": "ipython3",
   "version": "3.11.5"
  }
 },
 "nbformat": 4,
 "nbformat_minor": 5
}
