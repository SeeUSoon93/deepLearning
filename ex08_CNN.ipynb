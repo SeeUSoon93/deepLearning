{
  "nbformat": 4,
  "nbformat_minor": 0,
  "metadata": {
    "colab": {
      "provenance": [],
      "gpuType": "T4",
      "mount_file_id": "14hKzmG9iSTZqpjjavQnGNEcK4uf2LCvp",
      "authorship_tag": "ABX9TyP1O9oM8WIdVVyrLotr/NX0",
      "include_colab_link": true
    },
    "kernelspec": {
      "name": "python3",
      "display_name": "Python 3"
    },
    "language_info": {
      "name": "python"
    },
    "accelerator": "GPU"
  },
  "cells": [
    {
      "cell_type": "markdown",
      "metadata": {
        "id": "view-in-github",
        "colab_type": "text"
      },
      "source": [
        "<a href=\"https://colab.research.google.com/github/SeeUSoon93/deepLearning/blob/main/ex08_CNN.ipynb\" target=\"_parent\"><img src=\"https://colab.research.google.com/assets/colab-badge.svg\" alt=\"Open In Colab\"/></a>"
      ]
    },
    {
      "cell_type": "markdown",
      "source": [
        "### 목표\n",
        "- 이미지 분석에 뛰어난 cnn 모델을 활용하여 손글씨 데이터셋 학습 및 분류 하기\n",
        "- MLP와 CNN의 차이점 확인\n",
        "- 실제 손글씨 데이터 넣어 정확도 확인"
      ],
      "metadata": {
        "id": "ACxlab1RzhAJ"
      }
    },
    {
      "cell_type": "code",
      "source": [
        "# 라이브러리 불러오기\n",
        "import numpy as np\n",
        "import matplotlib.pyplot as plt\n",
        "from tensorflow.keras.datasets import mnist\n",
        "(X_train,y_train),(X_test,y_test) = mnist.load_data()"
      ],
      "metadata": {
        "id": "eknvXSJdzzoR"
      },
      "execution_count": null,
      "outputs": []
    },
    {
      "cell_type": "code",
      "source": [
        "# 훈련데이터 1000개, 테스트데이터 300개만 가져와서 학습및 평가\n",
        "X_train = X_train[:1000,:]\n",
        "y_train = y_train[:1000]\n",
        "\n",
        "X_test = X_test[:300,:]\n",
        "y_test = y_test[:300]"
      ],
      "metadata": {
        "id": "D6TE1kjA0VmA"
      },
      "execution_count": null,
      "outputs": []
    },
    {
      "cell_type": "code",
      "source": [
        "print(X_train.shape,y_train.shape)\n",
        "print(X_test.shape,y_test.shape)"
      ],
      "metadata": {
        "colab": {
          "base_uri": "https://localhost:8080/"
        },
        "id": "rSxpMOID1B-X",
        "outputId": "174fadc5-9587-4473-8404-90e549937997"
      },
      "execution_count": null,
      "outputs": [
        {
          "output_type": "stream",
          "name": "stdout",
          "text": [
            "(1000, 28, 28) (1000,)\n",
            "(300, 28, 28) (300,)\n"
          ]
        }
      ]
    },
    {
      "cell_type": "code",
      "source": [
        "# 색상차원 추가해주기\n",
        "X_train=X_train.reshape(X_train.shape[0],28,28,1).astype('float32')/255\n",
        "X_test=X_test.reshape(X_test.shape[0],28,28,1).astype('float32')/255"
      ],
      "metadata": {
        "id": "IIGAoAaS1IGl"
      },
      "execution_count": null,
      "outputs": []
    },
    {
      "cell_type": "code",
      "source": [
        "# CNN 모델링\n",
        "from tensorflow.keras.models import Sequential\n",
        "from tensorflow.keras.layers import Conv2D, MaxPool2D, Dense, Flatten\n",
        "\n",
        "# Conv2D : 이미지에서 특성을 추출하는 기능\n",
        "# MaXpool2D : 특징이 아닌 부분을 제거, 이미지의 크기를 줄여주는 기능\n",
        "# Dense : 데이터 분석\n",
        "# Flatten : 다차원의 데이터를 1차원으로 변환해줌"
      ],
      "metadata": {
        "id": "Pi9gxPe12fA1"
      },
      "execution_count": null,
      "outputs": []
    },
    {
      "cell_type": "code",
      "source": [
        "# 뼈대\n",
        "model = Sequential()\n",
        "\n",
        "# 특성 추출부\n",
        "model.add(Conv2D(filters = 32, # 찾을 특징의 개수를 작성\n",
        "                 kernel_size = (3,3), # 특징을 추출할 크기 (3px*3px)\n",
        "                 input_shape = (28,28,1), # 첫번째 conv 층에서만 작성\n",
        "                 padding = 'same', activation = 'relu'))\n",
        "\n",
        "model.add(MaxPool2D(pool_size=(2,2))) # 특징이 아닌부분 삭제~\n",
        "\n",
        "# 분석 전에\n",
        "# 특성추출기와 분석기를 연결해주기 위해서 1차원 데이터로 변환\n",
        "model.add(Flatten())\n",
        "# 분석기 (Dense)\n",
        "model.add(Dense(units=128,activation='relu'))\n",
        "\n",
        "# 출력층\n",
        "model.add(Dense(units=10))"
      ],
      "metadata": {
        "id": "jg7vbM8k2v3z"
      },
      "execution_count": null,
      "outputs": []
    },
    {
      "cell_type": "code",
      "source": [
        "# 학습방법 및 평가방법 설정\n",
        "model.compile(loss = 'sparse_categorical_crossentropy',\n",
        "              optimizer = 'adam',\n",
        "              metrics = ['accuracy'])"
      ],
      "metadata": {
        "id": "maNGGjYY6oxf"
      },
      "execution_count": null,
      "outputs": []
    },
    {
      "cell_type": "code",
      "source": [
        "from tensorflow.keras.callbacks import ModelCheckpoint, EarlyStopping\n",
        "\n",
        "# 모델저장 객체 생성\n",
        "# 모델 저장 경로 설정\n",
        "model_path='/content/drive/MyDrive/Colab Notebooks/DeepLearning/data/cnn_best_model/cnn_best_model_{epoch:02d}_{val_accuracy:0.2f}.hdf5'\n",
        "cp = ModelCheckpoint(filepath = model_path,\n",
        "                     verboase = 1, # 로그 출력 > 학습기록\n",
        "                     save_best_only = True,\n",
        "                     # 모델이 최고성능을 도달할 때만 저장\n",
        "                     monitor = 'val_accuracy')"
      ],
      "metadata": {
        "id": "Lp8BxrEiD8Ig"
      },
      "execution_count": null,
      "outputs": []
    },
    {
      "cell_type": "code",
      "source": [
        "# 조기학습 중단 객체 생성\n",
        "early = EarlyStopping(monitor = 'val_accuracy',\n",
        "                      verbose = 1,\n",
        "                      patience = 10) # 모델성능의 개선을 기다려주는 횟수"
      ],
      "metadata": {
        "id": "r5PDsdVAEOoA"
      },
      "execution_count": null,
      "outputs": []
    },
    {
      "cell_type": "code",
      "source": [
        "h3 = model.fit(X_train, y_train, validation_split = 0.2, epochs = 1000, batch_size = 50,\n",
        "                callbacks = [cp, early])"
      ],
      "metadata": {
        "colab": {
          "base_uri": "https://localhost:8080/"
        },
        "id": "ykherPUnEVM2",
        "outputId": "11ca1fce-f744-4940-a870-90c5b27e7591"
      },
      "execution_count": null,
      "outputs": [
        {
          "output_type": "stream",
          "name": "stdout",
          "text": [
            "Epoch 1/1000\n",
            "16/16 [==============================] - 1s 20ms/step - loss: 4.0623 - accuracy: 0.2075 - val_loss: 2.2335 - val_accuracy: 0.2250\n",
            "Epoch 2/1000\n",
            "16/16 [==============================] - 0s 9ms/step - loss: 2.3026 - accuracy: 0.2225 - val_loss: 2.3026 - val_accuracy: 0.2300\n",
            "Epoch 3/1000\n",
            "16/16 [==============================] - 0s 10ms/step - loss: 2.3026 - accuracy: 0.2025 - val_loss: 2.3026 - val_accuracy: 0.2400\n",
            "Epoch 4/1000\n",
            "16/16 [==============================] - 0s 6ms/step - loss: 2.3026 - accuracy: 0.2000 - val_loss: 2.3026 - val_accuracy: 0.2400\n",
            "Epoch 5/1000\n",
            "16/16 [==============================] - 0s 6ms/step - loss: 2.3026 - accuracy: 0.2013 - val_loss: 2.3026 - val_accuracy: 0.2400\n",
            "Epoch 6/1000\n",
            "16/16 [==============================] - 0s 6ms/step - loss: 2.3026 - accuracy: 0.2013 - val_loss: 2.3026 - val_accuracy: 0.2400\n",
            "Epoch 7/1000\n",
            "16/16 [==============================] - 0s 6ms/step - loss: 2.3026 - accuracy: 0.2013 - val_loss: 2.3026 - val_accuracy: 0.2400\n",
            "Epoch 8/1000\n",
            "16/16 [==============================] - 0s 6ms/step - loss: 2.3026 - accuracy: 0.2013 - val_loss: 2.3026 - val_accuracy: 0.2400\n",
            "Epoch 9/1000\n",
            "16/16 [==============================] - 0s 6ms/step - loss: 2.3026 - accuracy: 0.2013 - val_loss: 2.3026 - val_accuracy: 0.2400\n",
            "Epoch 10/1000\n",
            "16/16 [==============================] - 0s 6ms/step - loss: 2.3026 - accuracy: 0.2013 - val_loss: 2.3026 - val_accuracy: 0.2400\n",
            "Epoch 11/1000\n",
            "16/16 [==============================] - 0s 5ms/step - loss: 2.3026 - accuracy: 0.2013 - val_loss: 2.3026 - val_accuracy: 0.2400\n",
            "Epoch 12/1000\n",
            "16/16 [==============================] - 0s 6ms/step - loss: 2.3026 - accuracy: 0.2013 - val_loss: 2.3026 - val_accuracy: 0.2400\n",
            "Epoch 13/1000\n",
            "16/16 [==============================] - 0s 6ms/step - loss: 2.3026 - accuracy: 0.2013 - val_loss: 2.3026 - val_accuracy: 0.2400\n",
            "Epoch 13: early stopping\n"
          ]
        }
      ]
    },
    {
      "cell_type": "code",
      "source": [
        "plt.figure(figsize=(15,5))\n",
        "plt.plot(h3.history['loss'], label='loss')\n",
        "plt.plot(h3.history['val_loss'], label='val_loss')\n",
        "plt.legend()\n",
        "plt.show()"
      ],
      "metadata": {
        "colab": {
          "base_uri": "https://localhost:8080/",
          "height": 445
        },
        "id": "WQjIG55VEpJP",
        "outputId": "c154fc36-f6f6-4825-8230-533bc4e8b1a6"
      },
      "execution_count": null,
      "outputs": [
        {
          "output_type": "display_data",
          "data": {
            "text/plain": [
              "<Figure size 1500x500 with 1 Axes>"
            ],
            "image/png": "[encoded data removed]"
          },
          "metadata": {}
        }
      ]
    },
    {
      "cell_type": "code",
      "source": [
        "### best_model 불러오는 방법\n",
        "from tensorflow.keras.models import load_model\n",
        "best_model = load_model('/content/drive/MyDrive/Colab Notebooks/DeepLearning/data/cnn_best_model/cnn_best_model_03_0.24.hdf5')"
      ],
      "metadata": {
        "id": "LHlPGO9nFFnv"
      },
      "execution_count": null,
      "outputs": []
    },
    {
      "cell_type": "code",
      "source": [
        "# 파이썬 이미지처리 라이브러리\n",
        "import PIL.Image as pimg\n",
        "\n",
        "img = pimg.open('/content/drive/MyDrive/Colab Notebooks/DeepLearning/data/손글씨/손글씨02.png').convert('L')\n",
        "# convert('L'): 컬러이미지를 흑백으로 변환\n",
        "img = np.array(img)\n",
        "test_img = img.reshape(1,28,28,1)\n",
        "test_img = test_img.astype('float32')/255"
      ],
      "metadata": {
        "id": "zwooQnfxFZvG"
      },
      "execution_count": null,
      "outputs": []
    },
    {
      "cell_type": "code",
      "source": [
        "best_model.predict(test_img)"
      ],
      "metadata": {
        "colab": {
          "base_uri": "https://localhost:8080/"
        },
        "id": "tgxZO-g3FcqN",
        "outputId": "d1f26f09-2a72-418f-8529-03cac761469d"
      },
      "execution_count": null,
      "outputs": [
        {
          "output_type": "stream",
          "name": "stderr",
          "text": [
            "WARNING:tensorflow:5 out of the last 5 calls to <function Model.make_predict_function.<locals>.predict_function at 0x7d795016ca60> triggered tf.function retracing. Tracing is expensive and the excessive number of tracings could be due to (1) creating @tf.function repeatedly in a loop, (2) passing tensors with different shapes, (3) passing Python objects instead of tensors. For (1), please define your @tf.function outside of the loop. For (2), @tf.function has reduce_retracing=True option that can avoid unnecessary retracing. For (3), please refer to https://www.tensorflow.org/guide/function#controlling_retracing and https://www.tensorflow.org/api_docs/python/tf/function for  more details.\n"
          ]
        },
        {
          "output_type": "stream",
          "name": "stdout",
          "text": [
            "1/1 [==============================] - 0s 59ms/step\n"
          ]
        },
        {
          "output_type": "execute_result",
          "data": {
            "text/plain": [
              "array([[-0.77465624, -0.5728474 , -0.6274883 , -2.499635  , -1.4860504 ,\n",
              "        -2.644932  , -2.0057507 , -0.41538393, -0.8370768 , -1.7893643 ]],\n",
              "      dtype=float32)"
            ]
          },
          "metadata": {},
          "execution_count": 58
        }
      ]
    },
    {
      "cell_type": "code",
      "source": [],
      "metadata": {
        "id": "9UvyCJGBFd_G"
      },
      "execution_count": null,
      "outputs": []
    }
  ]
}