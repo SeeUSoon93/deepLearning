{
 "cells": [
  {
   "cell_type": "code",
   "execution_count": 5,
   "id": "4d2750b0",
   "metadata": {},
   "outputs": [],
   "source": [
    "# 필요한 라이브러리들을 임포트합니다.\n",
    "from tensorflow_docs.vis import embed  # TensorFlow 문서의 시각화를 위한 도구입니다.\n",
    "from tensorflow import keras  # TensorFlow의 고수준 신경망 API입니다.\n",
    "from imutils import paths  # 이미지 처리를 위한 유틸리티 함수들을 제공합니다.\n",
    "\n",
    "import time\n",
    "import matplotlib.pyplot as plt  # 그래프와 이미지를 시각화하기 위한 라이브러리입니다.\n",
    "import tensorflow as tf  # TensorFlow 라이브러리입니다, 딥러닝 모델을 구성하고 훈련하기 위해 사용됩니다.\n",
    "import pandas as pd  # 데이터 분석 및 조작을 위한 라이브러리입니다.\n",
    "import numpy as np  # 수치 계산을 위한 라이브러리입니다.\n",
    "import imageio  # 이미지 읽기/쓰기를 위한 라이브러리입니다.\n",
    "import cv2  # OpenCV 라이브러리, 이미지 및 비디오 처리를 위해 사용됩니다.\n",
    "import os  # 운영체제와 상호작용을 위한 라이브러리입니다, 파일 경로 조작에 주로 사용됩니다.\n",
    "import math\n",
    "import mediapipe as mp"
   ]
  },
  {
   "cell_type": "code",
   "execution_count": null,
   "id": "7e035046",
   "metadata": {},
   "outputs": [],
   "source": []
  },
  {
   "cell_type": "code",
   "execution_count": null,
   "id": "000fbfe3",
   "metadata": {},
   "outputs": [],
   "source": []
  },
  {
   "cell_type": "code",
   "execution_count": null,
   "id": "ac6857ea",
   "metadata": {},
   "outputs": [],
   "source": []
  },
  {
   "cell_type": "code",
   "execution_count": null,
   "id": "6fb6bf7b",
   "metadata": {},
   "outputs": [],
   "source": []
  },
  {
   "cell_type": "code",
   "execution_count": null,
   "id": "f38a2c5d",
   "metadata": {},
   "outputs": [],
   "source": []
  },
  {
   "cell_type": "code",
   "execution_count": null,
   "id": "d1756281",
   "metadata": {},
   "outputs": [],
   "source": []
  },
  {
   "cell_type": "code",
   "execution_count": null,
   "id": "85a9b8e3",
   "metadata": {},
   "outputs": [],
   "source": []
  },
  {
   "cell_type": "code",
   "execution_count": null,
   "id": "2b79c6ae",
   "metadata": {},
   "outputs": [],
   "source": []
  }
 ],
 "metadata": {
  "kernelspec": {
   "display_name": "Python 3 (ipykernel)",
   "language": "python",
   "name": "python3"
  },
  "language_info": {
   "codemirror_mode": {
    "name": "ipython",
    "version": 3
   },
   "file_extension": ".py",
   "mimetype": "text/x-python",
   "name": "python",
   "nbconvert_exporter": "python",
   "pygments_lexer": "ipython3",
   "version": "3.11.4"
  }
 },
 "nbformat": 4,
 "nbformat_minor": 5
}
