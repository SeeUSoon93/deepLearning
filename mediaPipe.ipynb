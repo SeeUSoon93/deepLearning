{
  "nbformat": 4,
  "nbformat_minor": 0,
  "metadata": {
    "colab": {
      "provenance": [],
      "authorship_tag": "ABX9TyOkFl4xffuEu6N0v6RFP+Tt",
      "include_colab_link": true
    },
    "kernelspec": {
      "name": "python3",
      "display_name": "Python 3"
    },
    "language_info": {
      "name": "python"
    }
  },
  "cells": [
    {
      "cell_type": "markdown",
      "metadata": {
        "id": "view-in-github",
        "colab_type": "text"
      },
      "source": [
        "<a href=\"https://colab.research.google.com/github/SeeUSoon93/deepLearning/blob/main/mediaPipe.ipynb\" target=\"_parent\"><img src=\"https://colab.research.google.com/assets/colab-badge.svg\" alt=\"Open In Colab\"/></a>"
      ]
    },
    {
      "cell_type": "code",
      "execution_count": 1,
      "metadata": {
        "colab": {
          "base_uri": "https://localhost:8080/"
        },
        "id": "4EpzJMmNv0R-",
        "outputId": "9bc92653-d984-4709-a39f-e4267649e021"
      },
      "outputs": [
        {
          "output_type": "stream",
          "name": "stdout",
          "text": [
            "Collecting mediapipe\n",
            "  Downloading mediapipe-0.10.7-cp310-cp310-manylinux_2_17_x86_64.manylinux2014_x86_64.whl (33.6 MB)\n",
            "\u001b[2K     \u001b[90m━━━━━━━━━━━━━━━━━━━━━━━━━━━━━━━━━━━━━━━━\u001b[0m \u001b[32m33.6/33.6 MB\u001b[0m \u001b[31m38.3 MB/s\u001b[0m eta \u001b[36m0:00:00\u001b[0m\n",
            "\u001b[?25hRequirement already satisfied: absl-py in /usr/local/lib/python3.10/dist-packages (from mediapipe) (1.4.0)\n",
            "Requirement already satisfied: attrs>=19.1.0 in /usr/local/lib/python3.10/dist-packages (from mediapipe) (23.1.0)\n",
            "Requirement already satisfied: flatbuffers>=2.0 in /usr/local/lib/python3.10/dist-packages (from mediapipe) (23.5.26)\n",
            "Requirement already satisfied: matplotlib in /usr/local/lib/python3.10/dist-packages (from mediapipe) (3.7.1)\n",
            "Requirement already satisfied: numpy in /usr/local/lib/python3.10/dist-packages (from mediapipe) (1.23.5)\n",
            "Requirement already satisfied: opencv-contrib-python in /usr/local/lib/python3.10/dist-packages (from mediapipe) (4.8.0.76)\n",
            "Requirement already satisfied: protobuf<4,>=3.11 in /usr/local/lib/python3.10/dist-packages (from mediapipe) (3.20.3)\n",
            "Collecting sounddevice>=0.4.4 (from mediapipe)\n",
            "  Downloading sounddevice-0.4.6-py3-none-any.whl (31 kB)\n",
            "Requirement already satisfied: CFFI>=1.0 in /usr/local/lib/python3.10/dist-packages (from sounddevice>=0.4.4->mediapipe) (1.16.0)\n",
            "Requirement already satisfied: contourpy>=1.0.1 in /usr/local/lib/python3.10/dist-packages (from matplotlib->mediapipe) (1.1.1)\n",
            "Requirement already satisfied: cycler>=0.10 in /usr/local/lib/python3.10/dist-packages (from matplotlib->mediapipe) (0.12.1)\n",
            "Requirement already satisfied: fonttools>=4.22.0 in /usr/local/lib/python3.10/dist-packages (from matplotlib->mediapipe) (4.43.1)\n",
            "Requirement already satisfied: kiwisolver>=1.0.1 in /usr/local/lib/python3.10/dist-packages (from matplotlib->mediapipe) (1.4.5)\n",
            "Requirement already satisfied: packaging>=20.0 in /usr/local/lib/python3.10/dist-packages (from matplotlib->mediapipe) (23.2)\n",
            "Requirement already satisfied: pillow>=6.2.0 in /usr/local/lib/python3.10/dist-packages (from matplotlib->mediapipe) (9.4.0)\n",
            "Requirement already satisfied: pyparsing>=2.3.1 in /usr/local/lib/python3.10/dist-packages (from matplotlib->mediapipe) (3.1.1)\n",
            "Requirement already satisfied: python-dateutil>=2.7 in /usr/local/lib/python3.10/dist-packages (from matplotlib->mediapipe) (2.8.2)\n",
            "Requirement already satisfied: pycparser in /usr/local/lib/python3.10/dist-packages (from CFFI>=1.0->sounddevice>=0.4.4->mediapipe) (2.21)\n",
            "Requirement already satisfied: six>=1.5 in /usr/local/lib/python3.10/dist-packages (from python-dateutil>=2.7->matplotlib->mediapipe) (1.16.0)\n",
            "Installing collected packages: sounddevice, mediapipe\n",
            "Successfully installed mediapipe-0.10.7 sounddevice-0.4.6\n"
          ]
        }
      ],
      "source": [
        "!pip install mediapipe"
      ]
    },
    {
      "cell_type": "code",
      "source": [
        "!pip install opencv-python"
      ],
      "metadata": {
        "colab": {
          "base_uri": "https://localhost:8080/"
        },
        "id": "mMEYM4_Uv3x1",
        "outputId": "4d813786-1ec0-4342-fd19-a48a075aa7ca"
      },
      "execution_count": 5,
      "outputs": [
        {
          "output_type": "stream",
          "name": "stdout",
          "text": [
            "Requirement already satisfied: opencv-python in /usr/local/lib/python3.10/dist-packages (4.8.0.76)\n",
            "Requirement already satisfied: numpy>=1.21.2 in /usr/local/lib/python3.10/dist-packages (from opencv-python) (1.23.5)\n"
          ]
        }
      ]
    },
    {
      "cell_type": "code",
      "source": [
        "# 필요한 라이브러리를 가져옵니다.\n",
        "import cv2\n",
        "import mediapipe as mp\n",
        "\n",
        "# 미디어 파이프에서 제공하는 드로잉 유틸리티와 손 모델을 사용하기 위한 인스턴스를 생성합니다.\n",
        "mp_drawing = mp.solutions.drawing_utils\n",
        "mp_hands = mp.solutions.hands\n",
        "\n",
        "# 웹캠을 사용하기 위해 cv2.VideoCapture 객체를 초기화합니다.\n",
        "cap = cv2.VideoCapture(0)\n",
        "\n",
        "# 손을 감지하기 위한 설정으로 'Hands' 객체를 생성합니다.\n",
        "with mp_hands.Hands(\n",
        "    max_num_hands=1,  # 최대 감지할 손의 개수\n",
        "    min_detection_confidence=0.5,  # 감지를 위한 최소 신뢰도\n",
        "    min_tracking_confidence=0.5) as hands:  # 추적을 위한 최소 신뢰도\n",
        "\n",
        "    # 웹캠이 열려 있는 동안 무한 루프를 돌면서 프레임을 읽습니다.\n",
        "    while cap.isOpened():\n",
        "        success, image = cap.read()\n",
        "        if not success:\n",
        "            continue  # 읽기에 실패하면 다음 프레임으로 건너뜁니다.\n",
        "\n",
        "        # 이미지를 좌우반전시키고 RGB로 변환합니다. (미디어 파이프가 RGB 이미지를 사용)\n",
        "        image = cv2.cvtColor(cv2.flip(image, 1), cv2.COLOR_BGR2RGB)\n",
        "\n",
        "        # 변환된 이미지로 손을 감지합니다.\n",
        "        results = hands.process(image)\n",
        "\n",
        "        # 다시 BGR로 이미지를 변환하여 OpenCV에서 사용할 수 있게 합니다.\n",
        "        image = cv2.cvtColor(image, cv2.COLOR_RGB2BGR)\n",
        "\n",
        "        # 감지된 손의 랜드마크가 있으면 정보를 화면에 표시합니다.\n",
        "        if results.multi_hand_landmarks:\n",
        "            for hand_landmarks in results.multi_hand_landmarks:\n",
        "                # 랜드마크 좌표를 가져와서 특정 손가락의 x 좌표를 계산합니다.\n",
        "                finger1 = int(hand_landmarks.landmark[4].x * 100)\n",
        "                finger2 = int(hand_landmarks.landmark[8].x * 100)\n",
        "                # 손가락들 사이의 거리를 계산합니다.\n",
        "                dist = abs(finger1 - finger2)\n",
        "                # 계산된 정보를 이미지 위에 텍스트로 표시합니다.\n",
        "                cv2.putText(\n",
        "                    image, text='f1=%d f2=%d dist=%d ' % (finger1, finger2, dist), org=(10, 30),\n",
        "                    fontFace=cv2.FONT_HERSHEY_SIMPLEX, fontScale=1,\n",
        "                    color=(255, 255, 255), thickness=3)\n",
        "\n",
        "                # 손의 랜드마크와 연결선을 이미지 위에 그립니다.\n",
        "                mp_drawing.draw_landmarks(\n",
        "                    image, hand_landmarks, mp_hands.HAND_CONNECTIONS)\n",
        "\n",
        "        # 처리된 이미지를 'image'라는 창에 표시합니다.\n",
        "        cv2.imshow('image', image)\n",
        "        # 'q' 키를 누르면 루프에서 빠져나와 프로그램을 종료합니다.\n",
        "        if cv2.waitKey(1) == ord('q'):\n",
        "            break\n",
        "\n",
        "# 사용이 끝난 후, 웹캠을 해제합니다.\n",
        "cap.release()"
      ],
      "metadata": {
        "id": "v-Iy-RfawE-U"
      },
      "execution_count": 6,
      "outputs": []
    },
    {
      "cell_type": "code",
      "source": [],
      "metadata": {
        "id": "qsEqRnynwYBJ"
      },
      "execution_count": null,
      "outputs": []
    }
  ]
}